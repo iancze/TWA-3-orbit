{
 "cells": [
  {
   "cell_type": "markdown",
   "metadata": {},
   "source": [
    "Invert the Gaia parallax to get error bars on distance. \n",
    "\n",
    "$\\varpi = 27.31 \\pm 0.12$ mas"
   ]
  },
  {
   "cell_type": "code",
   "execution_count": 1,
   "metadata": {},
   "outputs": [
    {
     "name": "stdout",
     "output_type": "stream",
     "text": [
      "36.62+0.16-0.16\n"
     ]
    }
   ],
   "source": [
    "varpi = 27.31e-3 # as\n",
    "sd = 0.12e-3 # as\n",
    "\n",
    "l = 1/(varpi + sd)\n",
    "m = 1/varpi\n",
    "h = 1/(varpi - sd)\n",
    "\n",
    "print(\"{:.2f}+{:.2f}-{:.2f}\".format(m, h-m, m-l))"
   ]
  },
  {
   "cell_type": "code",
   "execution_count": null,
   "metadata": {},
   "outputs": [],
   "source": []
  }
 ],
 "metadata": {
  "kernelspec": {
   "display_name": "Python 3",
   "language": "python",
   "name": "python3"
  },
  "language_info": {
   "codemirror_mode": {
    "name": "ipython",
    "version": 3
   },
   "file_extension": ".py",
   "mimetype": "text/x-python",
   "name": "python",
   "nbconvert_exporter": "python",
   "pygments_lexer": "ipython3",
   "version": "3.7.3"
  }
 },
 "nbformat": 4,
 "nbformat_minor": 2
}
